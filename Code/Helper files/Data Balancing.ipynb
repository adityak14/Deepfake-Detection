{
 "cells": [
  {
   "cell_type": "code",
   "execution_count": 10,
   "metadata": {},
   "outputs": [],
   "source": [
    "import json\n",
    "import glob\n",
    "import numpy as np\n",
    "import cv2\n",
    "import copy\n",
    "import pandas as pd"
   ]
  },
  {
   "cell_type": "code",
   "execution_count": 71,
   "metadata": {},
   "outputs": [],
   "source": [
    "\n",
    "path_to_json='F:/Dataset/Kaggle dataset/Gobal_metadata.json'\n",
    "path_to_json = 'F:/Dataset/Kaggle dataset/deepfake-detection-challenge/train_sample_videos/metadata.json'\n",
    "\n",
    "\n",
    "with open(path_to_json) as f:\n",
    "  labels = json.load(f)"
   ]
  },
  {
   "cell_type": "code",
   "execution_count": null,
   "metadata": {},
   "outputs": [],
   "source": [
    "df = pd.DataFrame(labels).T\n",
    "df.sort_values('label')\n",
    "df.loc[df['label'] == 'REAL']\n",
    "read_df = pd.DataFrame(df.loc[df['label'] == 'REAL'])\n",
    "read_df.index.values\n",
    "\n",
    "list_of_real = list(read_df.index.values)\n",
    "j = 0\n",
    "print(len(list_of_real))\n",
    "for i in range(20,len(list_of_real),20):\n",
    "    print(\" OR \".join(list_of_real[j:i]))\n",
    "    j = i\n",
    "\" OR \".join() "
   ]
  },
  {
   "cell_type": "code",
   "execution_count": null,
   "metadata": {},
   "outputs": [],
   "source": [
    "df = pd.DataFrame(labels).T\n",
    "read_df = pd.DataFrame(df.loc[df['label'] == 'FAKE'])\n",
    "read_df.index.values\n",
    "\n",
    "list_of_fake = list(read_df.index.values)\n",
    "j = 0\n",
    "print(len(list_of_fake))\n",
    "for i in range(20,len(list_of_fake),20):\n",
    "    print(\" OR \".join(list_of_fake[j:i]))\n",
    "    j = i\n",
    "\" OR \".join() "
   ]
  },
  {
   "cell_type": "code",
   "execution_count": null,
   "metadata": {},
   "outputs": [],
   "source": []
  }
 ],
 "metadata": {
  "kernelspec": {
   "display_name": "Python 3",
   "language": "python",
   "name": "python3"
  },
  "language_info": {
   "codemirror_mode": {
    "name": "ipython",
    "version": 3
   },
   "file_extension": ".py",
   "mimetype": "text/x-python",
   "name": "python",
   "nbconvert_exporter": "python",
   "pygments_lexer": "ipython3",
   "version": "3.6.5"
  }
 },
 "nbformat": 4,
 "nbformat_minor": 2
}
